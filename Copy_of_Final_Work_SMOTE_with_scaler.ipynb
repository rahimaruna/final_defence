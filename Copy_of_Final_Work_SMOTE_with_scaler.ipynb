{
  "nbformat": 4,
  "nbformat_minor": 0,
  "metadata": {
    "kernelspec": {
      "display_name": "Python 3",
      "language": "python",
      "name": "python3"
    },
    "language_info": {
      "codemirror_mode": {
        "name": "ipython",
        "version": 3
      },
      "file_extension": ".py",
      "mimetype": "text/x-python",
      "name": "python",
      "nbconvert_exporter": "python",
      "pygments_lexer": "ipython3",
      "version": "3.8.5"
    },
    "colab": {
      "name": "Copy of Final Work-SMOTE with scaler.ipynb",
      "provenance": [],
      "collapsed_sections": []
    }
  },
  "cells": [
    {
      "cell_type": "code",
      "metadata": {
        "id": "VqITrDdymu2d"
      },
      "source": [
        "# importing packages\n",
        "\n",
        "import pandas as pd\n",
        "import numpy as np\n",
        "import seaborn as sns\n",
        "import matplotlib.pyplot as plt\n",
        "%matplotlib inline"
      ],
      "execution_count": 1,
      "outputs": []
    },
    {
      "cell_type": "code",
      "metadata": {
        "id": "KYDI0nCemu2g",
        "colab": {
          "base_uri": "https://localhost:8080/"
        },
        "outputId": "46b3daa9-0b7c-4e45-96b6-18a8a5c77ef6"
      },
      "source": [
        "#importing all algorithm\n",
        "from sklearn.model_selection import train_test_split\n",
        "from sklearn.model_selection import cross_val_score\n",
        "from sklearn.metrics import accuracy_score, precision_score, recall_score, f1_score,confusion_matrix\n",
        "from sklearn.tree import DecisionTreeClassifier\n",
        "from sklearn.neighbors import KNeighborsClassifier\n",
        "from sklearn.svm import SVC\n",
        "from sklearn.linear_model import LogisticRegression\n",
        "from sklearn.naive_bayes import GaussianNB\n",
        "from sklearn.ensemble import RandomForestClassifier\n",
        "from sklearn.ensemble import GradientBoostingClassifier\n",
        "from sklearn.neural_network import MLPRegressor\n",
        "from sklearn.linear_model import LinearRegression\n",
        "#import lightgbm as lgb\n",
        "from imblearn.over_sampling import SMOTE\n",
        "#from lightgbm import LGBMClassifier"
      ],
      "execution_count": 2,
      "outputs": [
        {
          "output_type": "stream",
          "name": "stderr",
          "text": [
            "/usr/local/lib/python3.7/dist-packages/sklearn/externals/six.py:31: FutureWarning: The module is deprecated in version 0.21 and will be removed in version 0.23 since we've dropped support for Python 2.7. Please rely on the official version of six (https://pypi.org/project/six/).\n",
            "  \"(https://pypi.org/project/six/).\", FutureWarning)\n",
            "/usr/local/lib/python3.7/dist-packages/sklearn/utils/deprecation.py:144: FutureWarning: The sklearn.neighbors.base module is  deprecated in version 0.22 and will be removed in version 0.24. The corresponding classes / functions should instead be imported from sklearn.neighbors. Anything that cannot be imported from sklearn.neighbors is now part of the private API.\n",
            "  warnings.warn(message, FutureWarning)\n"
          ]
        }
      ]
    },
    {
      "cell_type": "code",
      "metadata": {
        "id": "_o3H1OTjmu2g"
      },
      "source": [
        "#EDA fucntion from previous work\n",
        "def expl_data_analisys(source_frame):\n",
        "\n",
        "    display(source_frame)\n",
        "    source_frame.info()\n",
        "    print()\n",
        "\n",
        "\n",
        "    print ('\\033[1m' + 'Null data amount' + '\\033[0m')\n",
        "    print()\n",
        "    print(source_frame.isna().mean().sort_values(ascending = False).round(4) * 100)\n",
        "    print()\n",
        "    print('\\033[1m' + 'Null data for float, int, %' + '\\033[0m')\n",
        "    print()\n",
        "    for col in source_frame:\n",
        "        if source_frame[col].dtypes in (float, int):\n",
        "            print('{: >0}'.format(col), source_frame.loc[source_frame[col]==0, col].count())\n",
        "    print()\n",
        "    \n",
        "\n",
        "    print('\\033[1m' + 'Categorial variables' + '\\033[1m')\n",
        "    print()\n",
        "    for col in source_frame:\n",
        "        if source_frame[col].dtypes == object:\n",
        "            print(('{: ^50}'.format(col)))\n",
        "            display(source_frame[col].value_counts())\n",
        "            print()\n",
        "\n",
        "\n",
        "    print('\\033[1m' + 'Quantitative variables' + '\\033[1m')\n",
        "    display(source_frame.describe())\n"
      ],
      "execution_count": 3,
      "outputs": []
    },
    {
      "cell_type": "code",
      "metadata": {
        "id": "fxVBcyKYmu2h",
        "colab": {
          "base_uri": "https://localhost:8080/",
          "height": 1000
        },
        "outputId": "ad17330d-9ee5-4476-9e12-f5d89adfe230"
      },
      "source": [
        "df=pd.read_csv('diabetes_type2.csv')\n",
        "expl_data_analisys(df)"
      ],
      "execution_count": 4,
      "outputs": [
        {
          "output_type": "display_data",
          "data": {
            "text/html": [
              "<div>\n",
              "<style scoped>\n",
              "    .dataframe tbody tr th:only-of-type {\n",
              "        vertical-align: middle;\n",
              "    }\n",
              "\n",
              "    .dataframe tbody tr th {\n",
              "        vertical-align: top;\n",
              "    }\n",
              "\n",
              "    .dataframe thead th {\n",
              "        text-align: right;\n",
              "    }\n",
              "</style>\n",
              "<table border=\"1\" class=\"dataframe\">\n",
              "  <thead>\n",
              "    <tr style=\"text-align: right;\">\n",
              "      <th></th>\n",
              "      <th>Pregnancies</th>\n",
              "      <th>Glucose</th>\n",
              "      <th>BloodPressure</th>\n",
              "      <th>SkinThickness</th>\n",
              "      <th>Insulin</th>\n",
              "      <th>BMI</th>\n",
              "      <th>DiabetesPedigreeFunction</th>\n",
              "      <th>Age</th>\n",
              "      <th>Outcome</th>\n",
              "    </tr>\n",
              "  </thead>\n",
              "  <tbody>\n",
              "    <tr>\n",
              "      <th>0</th>\n",
              "      <td>6</td>\n",
              "      <td>148</td>\n",
              "      <td>72</td>\n",
              "      <td>35</td>\n",
              "      <td>0</td>\n",
              "      <td>33.6</td>\n",
              "      <td>0.627</td>\n",
              "      <td>50</td>\n",
              "      <td>1</td>\n",
              "    </tr>\n",
              "    <tr>\n",
              "      <th>1</th>\n",
              "      <td>1</td>\n",
              "      <td>85</td>\n",
              "      <td>66</td>\n",
              "      <td>29</td>\n",
              "      <td>0</td>\n",
              "      <td>26.6</td>\n",
              "      <td>0.351</td>\n",
              "      <td>31</td>\n",
              "      <td>0</td>\n",
              "    </tr>\n",
              "    <tr>\n",
              "      <th>2</th>\n",
              "      <td>8</td>\n",
              "      <td>183</td>\n",
              "      <td>64</td>\n",
              "      <td>0</td>\n",
              "      <td>0</td>\n",
              "      <td>23.3</td>\n",
              "      <td>0.672</td>\n",
              "      <td>32</td>\n",
              "      <td>1</td>\n",
              "    </tr>\n",
              "    <tr>\n",
              "      <th>3</th>\n",
              "      <td>1</td>\n",
              "      <td>89</td>\n",
              "      <td>66</td>\n",
              "      <td>23</td>\n",
              "      <td>94</td>\n",
              "      <td>28.1</td>\n",
              "      <td>0.167</td>\n",
              "      <td>21</td>\n",
              "      <td>0</td>\n",
              "    </tr>\n",
              "    <tr>\n",
              "      <th>4</th>\n",
              "      <td>0</td>\n",
              "      <td>137</td>\n",
              "      <td>40</td>\n",
              "      <td>35</td>\n",
              "      <td>168</td>\n",
              "      <td>43.1</td>\n",
              "      <td>2.288</td>\n",
              "      <td>33</td>\n",
              "      <td>1</td>\n",
              "    </tr>\n",
              "    <tr>\n",
              "      <th>...</th>\n",
              "      <td>...</td>\n",
              "      <td>...</td>\n",
              "      <td>...</td>\n",
              "      <td>...</td>\n",
              "      <td>...</td>\n",
              "      <td>...</td>\n",
              "      <td>...</td>\n",
              "      <td>...</td>\n",
              "      <td>...</td>\n",
              "    </tr>\n",
              "    <tr>\n",
              "      <th>763</th>\n",
              "      <td>10</td>\n",
              "      <td>101</td>\n",
              "      <td>76</td>\n",
              "      <td>48</td>\n",
              "      <td>180</td>\n",
              "      <td>32.9</td>\n",
              "      <td>0.171</td>\n",
              "      <td>63</td>\n",
              "      <td>0</td>\n",
              "    </tr>\n",
              "    <tr>\n",
              "      <th>764</th>\n",
              "      <td>2</td>\n",
              "      <td>122</td>\n",
              "      <td>70</td>\n",
              "      <td>27</td>\n",
              "      <td>0</td>\n",
              "      <td>36.8</td>\n",
              "      <td>0.340</td>\n",
              "      <td>27</td>\n",
              "      <td>0</td>\n",
              "    </tr>\n",
              "    <tr>\n",
              "      <th>765</th>\n",
              "      <td>5</td>\n",
              "      <td>121</td>\n",
              "      <td>72</td>\n",
              "      <td>23</td>\n",
              "      <td>112</td>\n",
              "      <td>26.2</td>\n",
              "      <td>0.245</td>\n",
              "      <td>30</td>\n",
              "      <td>0</td>\n",
              "    </tr>\n",
              "    <tr>\n",
              "      <th>766</th>\n",
              "      <td>1</td>\n",
              "      <td>126</td>\n",
              "      <td>60</td>\n",
              "      <td>0</td>\n",
              "      <td>0</td>\n",
              "      <td>30.1</td>\n",
              "      <td>0.349</td>\n",
              "      <td>47</td>\n",
              "      <td>1</td>\n",
              "    </tr>\n",
              "    <tr>\n",
              "      <th>767</th>\n",
              "      <td>1</td>\n",
              "      <td>93</td>\n",
              "      <td>70</td>\n",
              "      <td>31</td>\n",
              "      <td>0</td>\n",
              "      <td>30.4</td>\n",
              "      <td>0.315</td>\n",
              "      <td>23</td>\n",
              "      <td>0</td>\n",
              "    </tr>\n",
              "  </tbody>\n",
              "</table>\n",
              "<p>768 rows × 9 columns</p>\n",
              "</div>"
            ],
            "text/plain": [
              "     Pregnancies  Glucose  ...  Age  Outcome\n",
              "0              6      148  ...   50        1\n",
              "1              1       85  ...   31        0\n",
              "2              8      183  ...   32        1\n",
              "3              1       89  ...   21        0\n",
              "4              0      137  ...   33        1\n",
              "..           ...      ...  ...  ...      ...\n",
              "763           10      101  ...   63        0\n",
              "764            2      122  ...   27        0\n",
              "765            5      121  ...   30        0\n",
              "766            1      126  ...   47        1\n",
              "767            1       93  ...   23        0\n",
              "\n",
              "[768 rows x 9 columns]"
            ]
          },
          "metadata": {}
        },
        {
          "output_type": "stream",
          "name": "stdout",
          "text": [
            "<class 'pandas.core.frame.DataFrame'>\n",
            "RangeIndex: 768 entries, 0 to 767\n",
            "Data columns (total 9 columns):\n",
            " #   Column                    Non-Null Count  Dtype  \n",
            "---  ------                    --------------  -----  \n",
            " 0   Pregnancies               768 non-null    int64  \n",
            " 1   Glucose                   768 non-null    int64  \n",
            " 2   BloodPressure             768 non-null    int64  \n",
            " 3   SkinThickness             768 non-null    int64  \n",
            " 4   Insulin                   768 non-null    int64  \n",
            " 5   BMI                       768 non-null    float64\n",
            " 6   DiabetesPedigreeFunction  768 non-null    float64\n",
            " 7   Age                       768 non-null    int64  \n",
            " 8   Outcome                   768 non-null    int64  \n",
            "dtypes: float64(2), int64(7)\n",
            "memory usage: 54.1 KB\n",
            "\n",
            "\u001b[1mNull data amount\u001b[0m\n",
            "\n",
            "Outcome                     0.0\n",
            "Age                         0.0\n",
            "DiabetesPedigreeFunction    0.0\n",
            "BMI                         0.0\n",
            "Insulin                     0.0\n",
            "SkinThickness               0.0\n",
            "BloodPressure               0.0\n",
            "Glucose                     0.0\n",
            "Pregnancies                 0.0\n",
            "dtype: float64\n",
            "\n",
            "\u001b[1mNull data for float, int, %\u001b[0m\n",
            "\n",
            "Pregnancies 111\n",
            "Glucose 5\n",
            "BloodPressure 35\n",
            "SkinThickness 227\n",
            "Insulin 374\n",
            "BMI 11\n",
            "DiabetesPedigreeFunction 0\n",
            "Age 0\n",
            "Outcome 500\n",
            "\n",
            "\u001b[1mCategorial variables\u001b[1m\n",
            "\n",
            "\u001b[1mQuantitative variables\u001b[1m\n"
          ]
        },
        {
          "output_type": "display_data",
          "data": {
            "text/html": [
              "<div>\n",
              "<style scoped>\n",
              "    .dataframe tbody tr th:only-of-type {\n",
              "        vertical-align: middle;\n",
              "    }\n",
              "\n",
              "    .dataframe tbody tr th {\n",
              "        vertical-align: top;\n",
              "    }\n",
              "\n",
              "    .dataframe thead th {\n",
              "        text-align: right;\n",
              "    }\n",
              "</style>\n",
              "<table border=\"1\" class=\"dataframe\">\n",
              "  <thead>\n",
              "    <tr style=\"text-align: right;\">\n",
              "      <th></th>\n",
              "      <th>Pregnancies</th>\n",
              "      <th>Glucose</th>\n",
              "      <th>BloodPressure</th>\n",
              "      <th>SkinThickness</th>\n",
              "      <th>Insulin</th>\n",
              "      <th>BMI</th>\n",
              "      <th>DiabetesPedigreeFunction</th>\n",
              "      <th>Age</th>\n",
              "      <th>Outcome</th>\n",
              "    </tr>\n",
              "  </thead>\n",
              "  <tbody>\n",
              "    <tr>\n",
              "      <th>count</th>\n",
              "      <td>768.000000</td>\n",
              "      <td>768.000000</td>\n",
              "      <td>768.000000</td>\n",
              "      <td>768.000000</td>\n",
              "      <td>768.000000</td>\n",
              "      <td>768.000000</td>\n",
              "      <td>768.000000</td>\n",
              "      <td>768.000000</td>\n",
              "      <td>768.000000</td>\n",
              "    </tr>\n",
              "    <tr>\n",
              "      <th>mean</th>\n",
              "      <td>3.845052</td>\n",
              "      <td>120.894531</td>\n",
              "      <td>69.105469</td>\n",
              "      <td>20.536458</td>\n",
              "      <td>79.799479</td>\n",
              "      <td>31.992578</td>\n",
              "      <td>0.471876</td>\n",
              "      <td>33.240885</td>\n",
              "      <td>0.348958</td>\n",
              "    </tr>\n",
              "    <tr>\n",
              "      <th>std</th>\n",
              "      <td>3.369578</td>\n",
              "      <td>31.972618</td>\n",
              "      <td>19.355807</td>\n",
              "      <td>15.952218</td>\n",
              "      <td>115.244002</td>\n",
              "      <td>7.884160</td>\n",
              "      <td>0.331329</td>\n",
              "      <td>11.760232</td>\n",
              "      <td>0.476951</td>\n",
              "    </tr>\n",
              "    <tr>\n",
              "      <th>min</th>\n",
              "      <td>0.000000</td>\n",
              "      <td>0.000000</td>\n",
              "      <td>0.000000</td>\n",
              "      <td>0.000000</td>\n",
              "      <td>0.000000</td>\n",
              "      <td>0.000000</td>\n",
              "      <td>0.078000</td>\n",
              "      <td>21.000000</td>\n",
              "      <td>0.000000</td>\n",
              "    </tr>\n",
              "    <tr>\n",
              "      <th>25%</th>\n",
              "      <td>1.000000</td>\n",
              "      <td>99.000000</td>\n",
              "      <td>62.000000</td>\n",
              "      <td>0.000000</td>\n",
              "      <td>0.000000</td>\n",
              "      <td>27.300000</td>\n",
              "      <td>0.243750</td>\n",
              "      <td>24.000000</td>\n",
              "      <td>0.000000</td>\n",
              "    </tr>\n",
              "    <tr>\n",
              "      <th>50%</th>\n",
              "      <td>3.000000</td>\n",
              "      <td>117.000000</td>\n",
              "      <td>72.000000</td>\n",
              "      <td>23.000000</td>\n",
              "      <td>30.500000</td>\n",
              "      <td>32.000000</td>\n",
              "      <td>0.372500</td>\n",
              "      <td>29.000000</td>\n",
              "      <td>0.000000</td>\n",
              "    </tr>\n",
              "    <tr>\n",
              "      <th>75%</th>\n",
              "      <td>6.000000</td>\n",
              "      <td>140.250000</td>\n",
              "      <td>80.000000</td>\n",
              "      <td>32.000000</td>\n",
              "      <td>127.250000</td>\n",
              "      <td>36.600000</td>\n",
              "      <td>0.626250</td>\n",
              "      <td>41.000000</td>\n",
              "      <td>1.000000</td>\n",
              "    </tr>\n",
              "    <tr>\n",
              "      <th>max</th>\n",
              "      <td>17.000000</td>\n",
              "      <td>199.000000</td>\n",
              "      <td>122.000000</td>\n",
              "      <td>99.000000</td>\n",
              "      <td>846.000000</td>\n",
              "      <td>67.100000</td>\n",
              "      <td>2.420000</td>\n",
              "      <td>81.000000</td>\n",
              "      <td>1.000000</td>\n",
              "    </tr>\n",
              "  </tbody>\n",
              "</table>\n",
              "</div>"
            ],
            "text/plain": [
              "       Pregnancies     Glucose  ...         Age     Outcome\n",
              "count   768.000000  768.000000  ...  768.000000  768.000000\n",
              "mean      3.845052  120.894531  ...   33.240885    0.348958\n",
              "std       3.369578   31.972618  ...   11.760232    0.476951\n",
              "min       0.000000    0.000000  ...   21.000000    0.000000\n",
              "25%       1.000000   99.000000  ...   24.000000    0.000000\n",
              "50%       3.000000  117.000000  ...   29.000000    0.000000\n",
              "75%       6.000000  140.250000  ...   41.000000    1.000000\n",
              "max      17.000000  199.000000  ...   81.000000    1.000000\n",
              "\n",
              "[8 rows x 9 columns]"
            ]
          },
          "metadata": {}
        }
      ]
    },
    {
      "cell_type": "code",
      "metadata": {
        "id": "tL__fXAZmu2h"
      },
      "source": [
        "#null value removing with true and false\n",
        "\n",
        "#findout empty value and replace it with anything else\n",
        "\n",
        "df[['Pregnancies','Glucose','BloodPressure','SkinThickness','Insulin','BMI']] = df[['Pregnancies','Glucose','BloodPressure','SkinThickness','Insulin','BMI']].replace(0,np.NaN)"
      ],
      "execution_count": 5,
      "outputs": []
    },
    {
      "cell_type": "code",
      "metadata": {
        "id": "d2Sg2iVLmu2h",
        "colab": {
          "base_uri": "https://localhost:8080/",
          "height": 419
        },
        "outputId": "7f14d498-5cc3-4d39-b363-2974d8a5417f"
      },
      "source": [
        "df"
      ],
      "execution_count": 6,
      "outputs": [
        {
          "output_type": "execute_result",
          "data": {
            "text/html": [
              "<div>\n",
              "<style scoped>\n",
              "    .dataframe tbody tr th:only-of-type {\n",
              "        vertical-align: middle;\n",
              "    }\n",
              "\n",
              "    .dataframe tbody tr th {\n",
              "        vertical-align: top;\n",
              "    }\n",
              "\n",
              "    .dataframe thead th {\n",
              "        text-align: right;\n",
              "    }\n",
              "</style>\n",
              "<table border=\"1\" class=\"dataframe\">\n",
              "  <thead>\n",
              "    <tr style=\"text-align: right;\">\n",
              "      <th></th>\n",
              "      <th>Pregnancies</th>\n",
              "      <th>Glucose</th>\n",
              "      <th>BloodPressure</th>\n",
              "      <th>SkinThickness</th>\n",
              "      <th>Insulin</th>\n",
              "      <th>BMI</th>\n",
              "      <th>DiabetesPedigreeFunction</th>\n",
              "      <th>Age</th>\n",
              "      <th>Outcome</th>\n",
              "    </tr>\n",
              "  </thead>\n",
              "  <tbody>\n",
              "    <tr>\n",
              "      <th>0</th>\n",
              "      <td>6.0</td>\n",
              "      <td>148.0</td>\n",
              "      <td>72.0</td>\n",
              "      <td>35.0</td>\n",
              "      <td>NaN</td>\n",
              "      <td>33.6</td>\n",
              "      <td>0.627</td>\n",
              "      <td>50</td>\n",
              "      <td>1</td>\n",
              "    </tr>\n",
              "    <tr>\n",
              "      <th>1</th>\n",
              "      <td>1.0</td>\n",
              "      <td>85.0</td>\n",
              "      <td>66.0</td>\n",
              "      <td>29.0</td>\n",
              "      <td>NaN</td>\n",
              "      <td>26.6</td>\n",
              "      <td>0.351</td>\n",
              "      <td>31</td>\n",
              "      <td>0</td>\n",
              "    </tr>\n",
              "    <tr>\n",
              "      <th>2</th>\n",
              "      <td>8.0</td>\n",
              "      <td>183.0</td>\n",
              "      <td>64.0</td>\n",
              "      <td>NaN</td>\n",
              "      <td>NaN</td>\n",
              "      <td>23.3</td>\n",
              "      <td>0.672</td>\n",
              "      <td>32</td>\n",
              "      <td>1</td>\n",
              "    </tr>\n",
              "    <tr>\n",
              "      <th>3</th>\n",
              "      <td>1.0</td>\n",
              "      <td>89.0</td>\n",
              "      <td>66.0</td>\n",
              "      <td>23.0</td>\n",
              "      <td>94.0</td>\n",
              "      <td>28.1</td>\n",
              "      <td>0.167</td>\n",
              "      <td>21</td>\n",
              "      <td>0</td>\n",
              "    </tr>\n",
              "    <tr>\n",
              "      <th>4</th>\n",
              "      <td>NaN</td>\n",
              "      <td>137.0</td>\n",
              "      <td>40.0</td>\n",
              "      <td>35.0</td>\n",
              "      <td>168.0</td>\n",
              "      <td>43.1</td>\n",
              "      <td>2.288</td>\n",
              "      <td>33</td>\n",
              "      <td>1</td>\n",
              "    </tr>\n",
              "    <tr>\n",
              "      <th>...</th>\n",
              "      <td>...</td>\n",
              "      <td>...</td>\n",
              "      <td>...</td>\n",
              "      <td>...</td>\n",
              "      <td>...</td>\n",
              "      <td>...</td>\n",
              "      <td>...</td>\n",
              "      <td>...</td>\n",
              "      <td>...</td>\n",
              "    </tr>\n",
              "    <tr>\n",
              "      <th>763</th>\n",
              "      <td>10.0</td>\n",
              "      <td>101.0</td>\n",
              "      <td>76.0</td>\n",
              "      <td>48.0</td>\n",
              "      <td>180.0</td>\n",
              "      <td>32.9</td>\n",
              "      <td>0.171</td>\n",
              "      <td>63</td>\n",
              "      <td>0</td>\n",
              "    </tr>\n",
              "    <tr>\n",
              "      <th>764</th>\n",
              "      <td>2.0</td>\n",
              "      <td>122.0</td>\n",
              "      <td>70.0</td>\n",
              "      <td>27.0</td>\n",
              "      <td>NaN</td>\n",
              "      <td>36.8</td>\n",
              "      <td>0.340</td>\n",
              "      <td>27</td>\n",
              "      <td>0</td>\n",
              "    </tr>\n",
              "    <tr>\n",
              "      <th>765</th>\n",
              "      <td>5.0</td>\n",
              "      <td>121.0</td>\n",
              "      <td>72.0</td>\n",
              "      <td>23.0</td>\n",
              "      <td>112.0</td>\n",
              "      <td>26.2</td>\n",
              "      <td>0.245</td>\n",
              "      <td>30</td>\n",
              "      <td>0</td>\n",
              "    </tr>\n",
              "    <tr>\n",
              "      <th>766</th>\n",
              "      <td>1.0</td>\n",
              "      <td>126.0</td>\n",
              "      <td>60.0</td>\n",
              "      <td>NaN</td>\n",
              "      <td>NaN</td>\n",
              "      <td>30.1</td>\n",
              "      <td>0.349</td>\n",
              "      <td>47</td>\n",
              "      <td>1</td>\n",
              "    </tr>\n",
              "    <tr>\n",
              "      <th>767</th>\n",
              "      <td>1.0</td>\n",
              "      <td>93.0</td>\n",
              "      <td>70.0</td>\n",
              "      <td>31.0</td>\n",
              "      <td>NaN</td>\n",
              "      <td>30.4</td>\n",
              "      <td>0.315</td>\n",
              "      <td>23</td>\n",
              "      <td>0</td>\n",
              "    </tr>\n",
              "  </tbody>\n",
              "</table>\n",
              "<p>768 rows × 9 columns</p>\n",
              "</div>"
            ],
            "text/plain": [
              "     Pregnancies  Glucose  ...  Age  Outcome\n",
              "0            6.0    148.0  ...   50        1\n",
              "1            1.0     85.0  ...   31        0\n",
              "2            8.0    183.0  ...   32        1\n",
              "3            1.0     89.0  ...   21        0\n",
              "4            NaN    137.0  ...   33        1\n",
              "..           ...      ...  ...  ...      ...\n",
              "763         10.0    101.0  ...   63        0\n",
              "764          2.0    122.0  ...   27        0\n",
              "765          5.0    121.0  ...   30        0\n",
              "766          1.0    126.0  ...   47        1\n",
              "767          1.0     93.0  ...   23        0\n",
              "\n",
              "[768 rows x 9 columns]"
            ]
          },
          "metadata": {},
          "execution_count": 6
        }
      ]
    },
    {
      "cell_type": "code",
      "metadata": {
        "id": "069SVic0mu2i",
        "colab": {
          "base_uri": "https://localhost:8080/"
        },
        "outputId": "5f1fa44c-b9a3-49c8-9ccc-8862848c8423"
      },
      "source": [
        "df.isnull().sum()"
      ],
      "execution_count": 7,
      "outputs": [
        {
          "output_type": "execute_result",
          "data": {
            "text/plain": [
              "Pregnancies                 111\n",
              "Glucose                       5\n",
              "BloodPressure                35\n",
              "SkinThickness               227\n",
              "Insulin                     374\n",
              "BMI                          11\n",
              "DiabetesPedigreeFunction      0\n",
              "Age                           0\n",
              "Outcome                       0\n",
              "dtype: int64"
            ]
          },
          "metadata": {},
          "execution_count": 7
        }
      ]
    },
    {
      "cell_type": "code",
      "metadata": {
        "id": "nNx-ZlD6mu2i"
      },
      "source": [
        "#replacing NaN value with mean value\n",
        "#df['Pregnancies'].fillna(df['Pregnancies'].mean(),inplace=True)\n",
        "#df['Glucose'].fillna(df['Glucose'].mean(), inplace = True)\n",
        "#df['BloodPressure'].fillna(df['BloodPressure'].mean(), inplace = True)\n",
        "#df['SkinThickness'].fillna(df['SkinThickness'].median(), inplace = True)\n",
        "#df['Insulin'].fillna(df['Insulin'].median(), inplace = True)\n",
        "#df['BMI'].fillna(df['BMI'].median(), inplace = True)"
      ],
      "execution_count": null,
      "outputs": []
    },
    {
      "cell_type": "code",
      "metadata": {
        "id": "TYNgl_Osmu2i"
      },
      "source": [
        "#replacing NaN value with mean value\n",
        "df['Pregnancies'].fillna(df['Pregnancies'].median(),inplace=True)\n",
        "df['Glucose'].fillna(df['Glucose'].median(), inplace = True)\n",
        "df['BloodPressure'].fillna(df['BloodPressure'].median(), inplace = True)\n",
        "df['SkinThickness'].fillna(df['SkinThickness'].median(), inplace = True)\n",
        "df['Insulin'].fillna(df['Insulin'].median(), inplace = True)\n",
        "df['BMI'].fillna(df['BMI'].median(), inplace = True)"
      ],
      "execution_count": 8,
      "outputs": []
    },
    {
      "cell_type": "code",
      "metadata": {
        "id": "hQAYtQnhmu2i",
        "colab": {
          "base_uri": "https://localhost:8080/",
          "height": 419
        },
        "outputId": "9a31ef92-1507-4356-c677-79abe051df3b"
      },
      "source": [
        "df"
      ],
      "execution_count": 9,
      "outputs": [
        {
          "output_type": "execute_result",
          "data": {
            "text/html": [
              "<div>\n",
              "<style scoped>\n",
              "    .dataframe tbody tr th:only-of-type {\n",
              "        vertical-align: middle;\n",
              "    }\n",
              "\n",
              "    .dataframe tbody tr th {\n",
              "        vertical-align: top;\n",
              "    }\n",
              "\n",
              "    .dataframe thead th {\n",
              "        text-align: right;\n",
              "    }\n",
              "</style>\n",
              "<table border=\"1\" class=\"dataframe\">\n",
              "  <thead>\n",
              "    <tr style=\"text-align: right;\">\n",
              "      <th></th>\n",
              "      <th>Pregnancies</th>\n",
              "      <th>Glucose</th>\n",
              "      <th>BloodPressure</th>\n",
              "      <th>SkinThickness</th>\n",
              "      <th>Insulin</th>\n",
              "      <th>BMI</th>\n",
              "      <th>DiabetesPedigreeFunction</th>\n",
              "      <th>Age</th>\n",
              "      <th>Outcome</th>\n",
              "    </tr>\n",
              "  </thead>\n",
              "  <tbody>\n",
              "    <tr>\n",
              "      <th>0</th>\n",
              "      <td>6.0</td>\n",
              "      <td>148.0</td>\n",
              "      <td>72.0</td>\n",
              "      <td>35.0</td>\n",
              "      <td>125.0</td>\n",
              "      <td>33.6</td>\n",
              "      <td>0.627</td>\n",
              "      <td>50</td>\n",
              "      <td>1</td>\n",
              "    </tr>\n",
              "    <tr>\n",
              "      <th>1</th>\n",
              "      <td>1.0</td>\n",
              "      <td>85.0</td>\n",
              "      <td>66.0</td>\n",
              "      <td>29.0</td>\n",
              "      <td>125.0</td>\n",
              "      <td>26.6</td>\n",
              "      <td>0.351</td>\n",
              "      <td>31</td>\n",
              "      <td>0</td>\n",
              "    </tr>\n",
              "    <tr>\n",
              "      <th>2</th>\n",
              "      <td>8.0</td>\n",
              "      <td>183.0</td>\n",
              "      <td>64.0</td>\n",
              "      <td>29.0</td>\n",
              "      <td>125.0</td>\n",
              "      <td>23.3</td>\n",
              "      <td>0.672</td>\n",
              "      <td>32</td>\n",
              "      <td>1</td>\n",
              "    </tr>\n",
              "    <tr>\n",
              "      <th>3</th>\n",
              "      <td>1.0</td>\n",
              "      <td>89.0</td>\n",
              "      <td>66.0</td>\n",
              "      <td>23.0</td>\n",
              "      <td>94.0</td>\n",
              "      <td>28.1</td>\n",
              "      <td>0.167</td>\n",
              "      <td>21</td>\n",
              "      <td>0</td>\n",
              "    </tr>\n",
              "    <tr>\n",
              "      <th>4</th>\n",
              "      <td>4.0</td>\n",
              "      <td>137.0</td>\n",
              "      <td>40.0</td>\n",
              "      <td>35.0</td>\n",
              "      <td>168.0</td>\n",
              "      <td>43.1</td>\n",
              "      <td>2.288</td>\n",
              "      <td>33</td>\n",
              "      <td>1</td>\n",
              "    </tr>\n",
              "    <tr>\n",
              "      <th>...</th>\n",
              "      <td>...</td>\n",
              "      <td>...</td>\n",
              "      <td>...</td>\n",
              "      <td>...</td>\n",
              "      <td>...</td>\n",
              "      <td>...</td>\n",
              "      <td>...</td>\n",
              "      <td>...</td>\n",
              "      <td>...</td>\n",
              "    </tr>\n",
              "    <tr>\n",
              "      <th>763</th>\n",
              "      <td>10.0</td>\n",
              "      <td>101.0</td>\n",
              "      <td>76.0</td>\n",
              "      <td>48.0</td>\n",
              "      <td>180.0</td>\n",
              "      <td>32.9</td>\n",
              "      <td>0.171</td>\n",
              "      <td>63</td>\n",
              "      <td>0</td>\n",
              "    </tr>\n",
              "    <tr>\n",
              "      <th>764</th>\n",
              "      <td>2.0</td>\n",
              "      <td>122.0</td>\n",
              "      <td>70.0</td>\n",
              "      <td>27.0</td>\n",
              "      <td>125.0</td>\n",
              "      <td>36.8</td>\n",
              "      <td>0.340</td>\n",
              "      <td>27</td>\n",
              "      <td>0</td>\n",
              "    </tr>\n",
              "    <tr>\n",
              "      <th>765</th>\n",
              "      <td>5.0</td>\n",
              "      <td>121.0</td>\n",
              "      <td>72.0</td>\n",
              "      <td>23.0</td>\n",
              "      <td>112.0</td>\n",
              "      <td>26.2</td>\n",
              "      <td>0.245</td>\n",
              "      <td>30</td>\n",
              "      <td>0</td>\n",
              "    </tr>\n",
              "    <tr>\n",
              "      <th>766</th>\n",
              "      <td>1.0</td>\n",
              "      <td>126.0</td>\n",
              "      <td>60.0</td>\n",
              "      <td>29.0</td>\n",
              "      <td>125.0</td>\n",
              "      <td>30.1</td>\n",
              "      <td>0.349</td>\n",
              "      <td>47</td>\n",
              "      <td>1</td>\n",
              "    </tr>\n",
              "    <tr>\n",
              "      <th>767</th>\n",
              "      <td>1.0</td>\n",
              "      <td>93.0</td>\n",
              "      <td>70.0</td>\n",
              "      <td>31.0</td>\n",
              "      <td>125.0</td>\n",
              "      <td>30.4</td>\n",
              "      <td>0.315</td>\n",
              "      <td>23</td>\n",
              "      <td>0</td>\n",
              "    </tr>\n",
              "  </tbody>\n",
              "</table>\n",
              "<p>768 rows × 9 columns</p>\n",
              "</div>"
            ],
            "text/plain": [
              "     Pregnancies  Glucose  ...  Age  Outcome\n",
              "0            6.0    148.0  ...   50        1\n",
              "1            1.0     85.0  ...   31        0\n",
              "2            8.0    183.0  ...   32        1\n",
              "3            1.0     89.0  ...   21        0\n",
              "4            4.0    137.0  ...   33        1\n",
              "..           ...      ...  ...  ...      ...\n",
              "763         10.0    101.0  ...   63        0\n",
              "764          2.0    122.0  ...   27        0\n",
              "765          5.0    121.0  ...   30        0\n",
              "766          1.0    126.0  ...   47        1\n",
              "767          1.0     93.0  ...   23        0\n",
              "\n",
              "[768 rows x 9 columns]"
            ]
          },
          "metadata": {},
          "execution_count": 9
        }
      ]
    },
    {
      "cell_type": "code",
      "metadata": {
        "id": "56Ku9Oqwmu2j"
      },
      "source": [
        "#prepocessing complete\n",
        "#splitting data into dependend and independent\n",
        "\n",
        "out = df['Outcome']\n",
        "without_out = df.drop(['Outcome'],axis=1)"
      ],
      "execution_count": 10,
      "outputs": []
    },
    {
      "cell_type": "code",
      "metadata": {
        "id": "qQZs2DCdmu2j"
      },
      "source": [
        "#implementing SMOTE\n",
        "# sm = SMOTE(random_state=30)\n",
        "# without_out,out = sm.fit_resample(without_out,out)"
      ],
      "execution_count": 11,
      "outputs": []
    },
    {
      "cell_type": "code",
      "metadata": {
        "id": "-ORKnam3mu2j"
      },
      "source": [
        "#scaling before train test\n",
        "\n",
        "from sklearn.preprocessing import StandardScaler\n",
        "\n",
        "sc= StandardScaler()\n",
        "without_out_scaled= sc.fit_transform(without_out)"
      ],
      "execution_count": 12,
      "outputs": []
    },
    {
      "cell_type": "code",
      "metadata": {
        "id": "4KFEOJA_mu2j"
      },
      "source": [
        "#train and test data\n",
        "without_out_train,without_out_test,out_train,out_test = train_test_split(without_out_scaled,out,test_size=0.6, random_state=0)"
      ],
      "execution_count": 13,
      "outputs": []
    },
    {
      "cell_type": "code",
      "metadata": {
        "id": "gZb975LLmu2j"
      },
      "source": [
        "# smote using on train data\n",
        "# sm = SMOTE(random_state=30)\n",
        "# without_out,out = sm.fit_resample(without_out_train,out_train)"
      ],
      "execution_count": 14,
      "outputs": []
    },
    {
      "cell_type": "code",
      "metadata": {
        "id": "frjS0R-Emu2k",
        "colab": {
          "base_uri": "https://localhost:8080/"
        },
        "outputId": "12137154-8e9c-4f5f-9889-403697d96092"
      },
      "source": [
        "#implementing logistic regression\n",
        "\n",
        "logistic = LogisticRegression(random_state = 0)\n",
        "logistic.fit(without_out_train,out_train)\n",
        "\n",
        "logistic_pred = logistic.predict(without_out_test)\n",
        "logistic_score = accuracy_score(out_test,logistic_pred)\n",
        "precission_logistic = precision_score(out_test,logistic_pred)\n",
        "recall_logistic = recall_score(out_test,logistic_pred)\n",
        "f1_logistic = f1_score(out_test,logistic_pred)\n",
        "print(\"Accuracy : \",logistic_score)\n",
        "print(\"Confusion : \",confusion_matrix(out_test, logistic_pred))\n",
        "print(\"Precission : \",precission_logistic)\n",
        "print(\"Recall : \",recall_logistic)\n",
        "print(\"F1 : \",f1_logistic)"
      ],
      "execution_count": 15,
      "outputs": [
        {
          "output_type": "stream",
          "name": "stdout",
          "text": [
            "Accuracy :  0.7830802603036876\n",
            "Confusion :  [[267  33]\n",
            " [ 67  94]]\n",
            "Precission :  0.7401574803149606\n",
            "Recall :  0.5838509316770186\n",
            "F1 :  0.6527777777777778\n"
          ]
        }
      ]
    },
    {
      "cell_type": "code",
      "metadata": {
        "id": "gbhN054Bmu2k",
        "colab": {
          "base_uri": "https://localhost:8080/"
        },
        "outputId": "a87bcbbd-6a79-4ed5-abf3-5168a8d70d24"
      },
      "source": [
        "tree = DecisionTreeClassifier()\n",
        "tree.fit(without_out_train,out_train)\n",
        "tree_pred = tree.predict(without_out_test)\n",
        "tree_score = accuracy_score(out_test,tree_pred)\n",
        "precission_tree = precision_score(out_test,tree_pred)\n",
        "recall_tree = recall_score(out_test,tree_pred)\n",
        "f1_tree = f1_score(out_test,tree_pred)\n",
        "print(\"Accuracy : \",tree_score)\n",
        "print(\"Confusion : \",confusion_matrix(out_test, tree_pred))\n",
        "print(\"Precission : \",precission_tree)\n",
        "print(\"Recall : \",recall_tree)\n",
        "print(\"F1 : \",f1_tree)"
      ],
      "execution_count": 16,
      "outputs": [
        {
          "output_type": "stream",
          "name": "stdout",
          "text": [
            "Accuracy :  0.7180043383947939\n",
            "Confusion :  [[234  66]\n",
            " [ 64  97]]\n",
            "Precission :  0.5950920245398773\n",
            "Recall :  0.6024844720496895\n",
            "F1 :  0.5987654320987654\n"
          ]
        }
      ]
    },
    {
      "cell_type": "code",
      "metadata": {
        "scrolled": true,
        "id": "iaMzMm_Ymu2k"
      },
      "source": [
        "#linear = LinearRegression()\n",
        "#linear.fit(without_out_train,out_train)\n",
        "#linear_pred = linear.predict(without_out_test)\n",
        "#linear_score = accuracy_score(out_test,linear_pred)\n",
        "#precission_linear = precision_score(out_test,linear_pred)\n",
        "#recall_linear = recall_score(out_test,linear_pred)\n",
        "#f1_linear = f1_score(out_test,linear_pred)\n",
        "#print(\"Accuracy : \",linear_score)\n",
        "#print(\"Precission : \",precission_linear)\n",
        "#print(\"Recall : \",recall_linear)\n",
        "#print(\"F1 : \",f1_linear)"
      ],
      "execution_count": 17,
      "outputs": []
    },
    {
      "cell_type": "code",
      "metadata": {
        "id": "Awo2LEsLmu2k",
        "colab": {
          "base_uri": "https://localhost:8080/"
        },
        "outputId": "8ae78884-a1d5-43d3-a4ec-293158b1898f"
      },
      "source": [
        "linear = LinearRegression()\n",
        "linear.fit(without_out_train,out_train)\n",
        "linear_pred = linear.predict(without_out_test)\n",
        "linear_score = linear.score(without_out_test,out_test)\n",
        "#precission_linear = precision_score(out_test,linear_pred)\n",
        "#recall_linear = recall_score(out_test,linear_pred)\n",
        "#f1_linear = f1_score(out_test,linear_pred)\n",
        "print(\"Accuracy : \",linear_score)\n",
        "# print(\"Confusion : \",confusion_matrix(out_test, linear_pred))\n",
        "#print(\"Precission : \",precission_linear)\n",
        "#print(\"Recall : \",recall_linear)\n",
        "#print(\"F1 : \",f1_linear)"
      ],
      "execution_count": 18,
      "outputs": [
        {
          "output_type": "stream",
          "name": "stdout",
          "text": [
            "Accuracy :  0.3150719650524012\n"
          ]
        }
      ]
    },
    {
      "cell_type": "code",
      "metadata": {
        "id": "I3zk7Tcrmu2k",
        "colab": {
          "base_uri": "https://localhost:8080/"
        },
        "outputId": "b1c48888-749b-49dc-fca2-5fdecc44cc26"
      },
      "source": [
        "kn = KNeighborsClassifier()\n",
        "kn.fit(without_out_train,out_train)\n",
        "kn_pred = kn.predict(without_out_test)\n",
        "kn_score = accuracy_score(out_test,kn_pred)\n",
        "precission_kn = precision_score(out_test,kn_pred)\n",
        "recall_kn = recall_score(out_test,kn_pred)\n",
        "f1_kn = f1_score(out_test,kn_pred)\n",
        "print(\"Accuracy : \",kn_score)\n",
        "print(\"Confusion : \",confusion_matrix(out_test, kn_pred))\n",
        "print(\"Precission : \",precission_kn)\n",
        "print(\"Recall : \",recall_kn)\n",
        "print(\"F1 : \",f1_kn)"
      ],
      "execution_count": 19,
      "outputs": [
        {
          "output_type": "stream",
          "name": "stdout",
          "text": [
            "Accuracy :  0.7310195227765727\n",
            "Confusion :  [[249  51]\n",
            " [ 73  88]]\n",
            "Precission :  0.6330935251798561\n",
            "Recall :  0.546583850931677\n",
            "F1 :  0.5866666666666667\n"
          ]
        }
      ]
    },
    {
      "cell_type": "code",
      "metadata": {
        "id": "2B18DH8emu2l"
      },
      "source": [
        "# lg = LGBMClassifier()\n",
        "# lg.fit(without_out_train,out_train)\n",
        "# lg_pred = lg.predict(without_out_test)\n",
        "# lg_score = accuracy_score(out_test,lg_pred)\n",
        "# precission_lg = precision_score(out_test,lg_pred)\n",
        "# recall_lg = recall_score(out_test,lg_pred)\n",
        "# f1_lg = f1_score(out_test,lg_pred)\n",
        "# print(\"Accuracy : \",lg_score)\n",
        "# print(\"Confusion : \",confusion_matrix(out_test, lg_pred))\n",
        "# print(\"Precission : \",precission_lg)\n",
        "# print(\"Recall : \",recall_lg)\n",
        "# print(\"F1 : \",f1_lg)"
      ],
      "execution_count": null,
      "outputs": []
    },
    {
      "cell_type": "code",
      "metadata": {
        "id": "DSogy_a0mu2l",
        "colab": {
          "base_uri": "https://localhost:8080/"
        },
        "outputId": "8319f327-9069-41b8-8993-443329f7bd7f"
      },
      "source": [
        "gbm = GradientBoostingClassifier()\n",
        "gbm.fit(without_out_train,out_train)\n",
        "gbm_pred = gbm.predict(without_out_test)\n",
        "gbm_score = accuracy_score(out_test,gbm_pred)\n",
        "precission_gbm = precision_score(out_test,gbm_pred)\n",
        "recall_gbm = recall_score(out_test,gbm_pred)\n",
        "f1_gbm = f1_score(out_test,gbm_pred)\n",
        "print(\"Accuracy : \",gbm_score)\n",
        "print(\"Confusion : \",confusion_matrix(out_test, gbm_pred))\n",
        "print(\"Precission : \",precission_gbm)\n",
        "print(\"Recall : \",recall_gbm)\n",
        "print(\"F1 : \",f1_gbm)"
      ],
      "execution_count": 20,
      "outputs": [
        {
          "output_type": "stream",
          "name": "stdout",
          "text": [
            "Accuracy :  0.7592190889370932\n",
            "Confusion :  [[257  43]\n",
            " [ 68  93]]\n",
            "Precission :  0.6838235294117647\n",
            "Recall :  0.577639751552795\n",
            "F1 :  0.6262626262626263\n"
          ]
        }
      ]
    },
    {
      "cell_type": "code",
      "metadata": {
        "id": "pIVsmQW7mu2l",
        "colab": {
          "base_uri": "https://localhost:8080/",
          "height": 297
        },
        "outputId": "5f86efdd-7be4-43ca-95a5-d32e5a46e91c"
      },
      "source": [
        "#visualization part start\n",
        "#scatterplot to show 1 column directly against another column\n",
        "sns.scatterplot(x='Insulin',y='DiabetesPedigreeFunction',data=df)"
      ],
      "execution_count": 21,
      "outputs": [
        {
          "output_type": "execute_result",
          "data": {
            "text/plain": [
              "<matplotlib.axes._subplots.AxesSubplot at 0x7ff0d44fb950>"
            ]
          },
          "metadata": {},
          "execution_count": 21
        },
        {
          "output_type": "display_data",
          "data": {
            "image/png": "[encoded data removed]",
            "text/plain": [
              "<Figure size 432x288 with 1 Axes>"
            ]
          },
          "metadata": {
            "needs_background": "light"
          }
        }
      ]
    },
    {
      "cell_type": "code",
      "metadata": {
        "id": "oCAebG2Amu2l",
        "colab": {
          "base_uri": "https://localhost:8080/",
          "height": 499
        },
        "outputId": "433b9685-6c3c-477b-82bd-2d2ba7ec2e40"
      },
      "source": [
        "#correlation \n",
        "\n",
        "\n",
        "data_corr=df.corr()\n",
        "plt.figure(figsize=(6,6))\n",
        "sns.heatmap(data_corr,annot=True)\n",
        "plt.show()"
      ],
      "execution_count": 22,
      "outputs": [
        {
          "output_type": "display_data",
          "data": {
            "image/png": "[encoded data removed]",
            "text/plain": [
              "<Figure size 432x432 with 2 Axes>"
            ]
          },
          "metadata": {
            "needs_background": "light"
          }
        }
      ]
    },
    {
      "cell_type": "code",
      "metadata": {
        "id": "3RxPQQoQmu2l",
        "outputId": "d3a66d45-48cb-4edf-e777-1138fd02f893"
      },
      "source": [
        "#distribution of outcome\n",
        "\n",
        "sns.barplot(x=['Negative','Positive'],y=df.Outcome.value_counts(),palette=\"rocket\")"
      ],
      "execution_count": null,
      "outputs": [
        {
          "data": {
            "text/plain": [
              "<AxesSubplot:ylabel='Outcome'>"
            ]
          },
          "execution_count": 25,
          "metadata": {},
          "output_type": "execute_result"
        },
        {
          "data": {
            "image/png": "[encoded data removed]",
            "text/plain": [
              "<Figure size 432x288 with 1 Axes>"
            ]
          },
          "metadata": {
            "needs_background": "light"
          },
          "output_type": "display_data"
        }
      ]
    },
    {
      "cell_type": "code",
      "metadata": {
        "id": "sWhQ0T3Kmu2m",
        "outputId": "cd52248b-e08f-4731-8918-e3b72ed1412e"
      },
      "source": [
        "#outcome with pregnencies distribution\n",
        "plt.figure(figsize=(7,4))\n",
        "ax=sns.boxplot(x=df.Outcome, y=df.Pregnancies, data=df,palette=\"rocket\")\n",
        "plt.show()\n"
      ],
      "execution_count": null,
      "outputs": [
        {
          "data": {
            "image/png": "[encoded data removed]",
            "text/plain": [
              "<Figure size 504x288 with 1 Axes>"
            ]
          },
          "metadata": {
            "needs_background": "light"
          },
          "output_type": "display_data"
        }
      ]
    },
    {
      "cell_type": "code",
      "metadata": {
        "id": "inNaHnmZmu2m",
        "outputId": "3c238d26-0610-4571-f812-d3d06317adf8"
      },
      "source": [
        "#outcome with age distribution\n",
        "plt.figure(figsize=(7,4))\n",
        "ax=sns.boxplot(x=df.Outcome, y=df.Age, data=df,palette=\"rocket\")\n",
        "plt.show()"
      ],
      "execution_count": null,
      "outputs": [
        {
          "data": {
            "image/png": "[encoded data removed]",
            "text/plain": [
              "<Figure size 504x288 with 1 Axes>"
            ]
          },
          "metadata": {
            "needs_background": "light"
          },
          "output_type": "display_data"
        }
      ]
    },
    {
      "cell_type": "code",
      "metadata": {
        "id": "4D-sBiYtmu2m",
        "outputId": "6f84e2b0-135f-4dbe-ac70-de80abc427fd"
      },
      "source": [
        "#outcome with BMI distribution\n",
        "plt.figure(figsize=(7,4))\n",
        "ax=sns.boxplot(x=df.Outcome, y=df.BMI, data=df,palette=\"rocket\")\n",
        "plt.show()"
      ],
      "execution_count": null,
      "outputs": [
        {
          "data": {
            "image/png": "[encoded data removed]",
            "text/plain": [
              "<Figure size 504x288 with 1 Axes>"
            ]
          },
          "metadata": {
            "needs_background": "light"
          },
          "output_type": "display_data"
        }
      ]
    },
    {
      "cell_type": "code",
      "metadata": {
        "id": "smZJH-Qemu2m",
        "outputId": "ebce3921-5e5b-4fcd-cce3-71730eeff98b"
      },
      "source": [
        "#outcome with Glucose distribution\n",
        "plt.figure(figsize=(7,4))\n",
        "ax=sns.boxplot(x=df.Outcome, y=df.Glucose, data=df,palette=\"rocket\")\n",
        "plt.show()"
      ],
      "execution_count": null,
      "outputs": [
        {
          "data": {
            "image/png": "[encoded data removed]",
            "text/plain": [
              "<Figure size 504x288 with 1 Axes>"
            ]
          },
          "metadata": {
            "needs_background": "light"
          },
          "output_type": "display_data"
        }
      ]
    },
    {
      "cell_type": "code",
      "metadata": {
        "id": "ISl0spyRmu2m",
        "outputId": "ea27a5f9-963c-41a0-d4a7-93619810281e"
      },
      "source": [
        "#age vs number of people in that age range \n",
        "table = df.Age.hist(bins=20)\n",
        "table.set_xlabel(\"Age\")\n",
        "table.set_ylabel(\"Number of People\")\n",
        "plt.show()"
      ],
      "execution_count": null,
      "outputs": [
        {
          "data": {
            "image/png": "[encoded data removed]",
            "text/plain": [
              "<Figure size 432x288 with 1 Axes>"
            ]
          },
          "metadata": {
            "needs_background": "light"
          },
          "output_type": "display_data"
        }
      ]
    },
    {
      "cell_type": "code",
      "metadata": {
        "id": "UarfsLKEmu2m",
        "outputId": "54b88443-3b61-4031-e833-00c325b1f446"
      },
      "source": [
        "#diabates posetive negetive in short\n",
        "\n",
        "\n",
        "explode = (0.0, 0.05)\n",
        "plt.pie([list(out_train).count(0) + list(out_test).count(0), list(out_train).count(1) + list(out_test).count(1)], labels = [\"Not Diabetic\",\"Diabetic\"], autopct='%1.2f%%', startangle=90, explode=explode, shadow=True)\n",
        "plt.show()"
      ],
      "execution_count": null,
      "outputs": [
        {
          "data": {
            "image/png": "[encoded data removed]",
            "text/plain": [
              "<Figure size 432x288 with 1 Axes>"
            ]
          },
          "metadata": {},
          "output_type": "display_data"
        }
      ]
    },
    {
      "cell_type": "code",
      "metadata": {
        "id": "BN8SLGIUmu2m"
      },
      "source": [
        "#split on 2 part not 4 parts and than histogram\n",
        "train, test = train_test_split(df, test_size=0.25)"
      ],
      "execution_count": null,
      "outputs": []
    },
    {
      "cell_type": "code",
      "metadata": {
        "id": "HC2KizPPmu2m",
        "outputId": "b69eafdb-d015-4efb-ab35-c22adb21f49d"
      },
      "source": [
        "#check with train data\n",
        "\n",
        "train.hist(figsize = (12,12))\n",
        "plt.show()"
      ],
      "execution_count": null,
      "outputs": [
        {
          "data": {
            "image/png": "[encoded data removed]",
            "text/plain": [
              "<Figure size 864x864 with 9 Axes>"
            ]
          },
          "metadata": {
            "needs_background": "light"
          },
          "output_type": "display_data"
        }
      ]
    },
    {
      "cell_type": "code",
      "metadata": {
        "id": "NkvW7FQ0mu2n",
        "outputId": "111014eb-053e-4186-fe55-f089305b2764"
      },
      "source": [
        "#check with test data\n",
        "\n",
        "test.hist(figsize = (12,12))\n",
        "plt.show()"
      ],
      "execution_count": null,
      "outputs": [
        {
          "data": {
            "image/png": "[encoded data removed]",
            "text/plain": [
              "<Figure size 864x864 with 9 Axes>"
            ]
          },
          "metadata": {
            "needs_background": "light"
          },
          "output_type": "display_data"
        }
      ]
    },
    {
      "cell_type": "code",
      "metadata": {
        "id": "fB0lY3USmu2n"
      },
      "source": [
        ""
      ],
      "execution_count": null,
      "outputs": []
    },
    {
      "cell_type": "code",
      "metadata": {
        "id": "Qd52SpO5mu2n"
      },
      "source": [
        ""
      ],
      "execution_count": null,
      "outputs": []
    }
  ]
}